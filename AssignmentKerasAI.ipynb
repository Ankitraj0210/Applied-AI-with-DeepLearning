{
    "cells": [
        {
            "metadata": {},
            "cell_type": "markdown",
            "source": "# Keras exercise\n\nIn this exercise you will be creating a Keras model by loading a data set, preprocessing input data, building a Sequential Keras model and compiling the model with a training configuration. Afterwards, you train your model on the training data and evaluate it on the test set. To finish this exercise, you will past the accuracy of your model to the Coursera grader.\n\nThis notebook is tested in IBM Watson Studio under python 3.6\n\n##\u00a0Data\n\nFor this exercise we will use the Reuters newswire dataset. This dataset consists of 11,228 newswires from the Reuters news agency. Each wire is encoded as a sequence of word indexes, just as in the IMDB data we encountered in lecture 5 of this series. Moreover, each wire is categorised into one of 46 topics, which will serve as our label. This dataset is available through the Keras API.\n\n## Goal\n\nWe want to create a Multi-layer perceptron (MLP) using Keras which we can train to classify news items into the specified 46 topics.\n\n## Instructions\n\nWe start by installing and importing everything we need for this exercise:"
        },
        {
            "metadata": {},
            "cell_type": "code",
            "source": "!pip install --upgrade keras-applications keras-preprocessing setuptools tensorflow==1.14.0 keras==2.2.5",
            "execution_count": 1,
            "outputs": [
                {
                    "output_type": "stream",
                    "text": "Waiting for a Spark session to start...\nSpark Initialization Done! ApplicationId = app-20200303091903-0000\nKERNEL_ID = 7ec8b1cb-eaa9-4163-8280-cfce36d4f778\nCollecting keras-applications\n\u001b[?25l  Downloading https://files.pythonhosted.org/packages/71/e3/19762fdfc62877ae9102edf6342d71b28fbfd9dea3d2f96a882ce099b03f/Keras_Applications-1.0.8-py3-none-any.whl (50kB)\n\u001b[K    100% |################################| 51kB 2.2MB/s eta 0:00:01\n\u001b[?25hCollecting keras-preprocessing\n\u001b[?25l  Downloading https://files.pythonhosted.org/packages/28/6a/8c1f62c37212d9fc441a7e26736df51ce6f0e38455816445471f10da4f0a/Keras_Preprocessing-1.1.0-py2.py3-none-any.whl (41kB)\n\u001b[K    100% |################################| 51kB 2.1MB/s ta 0:00:011\n\u001b[?25hCollecting setuptools\n\u001b[?25l  Downloading https://files.pythonhosted.org/packages/3d/72/1c1498c1e908e0562b1e1cd30012580baa7d33b5b0ffdbeb5fde2462cc71/setuptools-45.2.0-py3-none-any.whl (584kB)\n\u001b[K    100% |################################| 593kB 4.3MB/s eta 0:00:01\n\u001b[?25hCollecting tensorflow==1.14.0\n\u001b[?25l  Downloading https://files.pythonhosted.org/packages/de/f0/96fb2e0412ae9692dbf400e5b04432885f677ad6241c088ccc5fe7724d69/tensorflow-1.14.0-cp36-cp36m-manylinux1_x86_64.whl (109.2MB)\n\u001b[K    100% |################################| 109.2MB 261kB/s eta 0:00:01s eta 0:00:02MB/s eta 0:00:02\n\u001b[?25hCollecting keras==2.2.5\n\u001b[?25l  Downloading https://files.pythonhosted.org/packages/f8/ba/2d058dcf1b85b9c212cc58264c98a4a7dd92c989b798823cc5690d062bb2/Keras-2.2.5-py2.py3-none-any.whl (336kB)\n\u001b[K    100% |################################| 337kB 4.5MB/s eta 0:00:01\n\u001b[?25hCollecting numpy>=1.9.1 (from keras-applications)\n\u001b[?25l  Downloading https://files.pythonhosted.org/packages/62/20/4d43e141b5bc426ba38274933ef8e76e85c7adea2c321ecf9ebf7421cedf/numpy-1.18.1-cp36-cp36m-manylinux1_x86_64.whl (20.1MB)\n\u001b[K    100% |################################| 20.2MB 962kB/s eta 0:00:01\n\u001b[?25hCollecting h5py (from keras-applications)\n\u001b[?25l  Downloading https://files.pythonhosted.org/packages/60/06/cafdd44889200e5438b897388f3075b52a8ef01f28a17366d91de0fa2d05/h5py-2.10.0-cp36-cp36m-manylinux1_x86_64.whl (2.9MB)\n\u001b[K    100% |################################| 2.9MB 3.5MB/s eta 0:00:01\n\u001b[?25hCollecting six>=1.9.0 (from keras-preprocessing)\n  Downloading https://files.pythonhosted.org/packages/65/eb/1f97cb97bfc2390a276969c6fae16075da282f5058082d4cb10c6c5c1dba/six-1.14.0-py2.py3-none-any.whl\nCollecting tensorflow-estimator<1.15.0rc0,>=1.14.0rc0 (from tensorflow==1.14.0)\n\u001b[?25l  Downloading https://files.pythonhosted.org/packages/3c/d5/21860a5b11caf0678fbc8319341b0ae21a07156911132e0e71bffed0510d/tensorflow_estimator-1.14.0-py2.py3-none-any.whl (488kB)\n\u001b[K    100% |################################| 491kB 4.7MB/s eta 0:00:01\n\u001b[?25hCollecting google-pasta>=0.1.6 (from tensorflow==1.14.0)\n\u001b[?25l  Downloading https://files.pythonhosted.org/packages/c3/fd/1e86bc4837cc9a3a5faf3db9b1854aa04ad35b5f381f9648fbe81a6f94e4/google_pasta-0.1.8-py3-none-any.whl (57kB)\n\u001b[K    100% |################################| 61kB 2.3MB/s eta 0:00:01\n\u001b[?25hCollecting absl-py>=0.7.0 (from tensorflow==1.14.0)\n\u001b[?25l  Downloading https://files.pythonhosted.org/packages/1a/53/9243c600e047bd4c3df9e69cfabc1e8004a82cac2e0c484580a78a94ba2a/absl-py-0.9.0.tar.gz (104kB)\n\u001b[K    100% |################################| 112kB 5.2MB/s eta 0:00:01\n\u001b[?25hCollecting grpcio>=1.8.6 (from tensorflow==1.14.0)\n\u001b[?25l  Downloading https://files.pythonhosted.org/packages/28/df/1f8a284a5e5819ae07d50bd76996d6f7208afef7533e4896fa1c6445574f/grpcio-1.27.2-cp36-cp36m-manylinux2010_x86_64.whl (2.7MB)\n\u001b[K    100% |################################| 2.7MB 3.7MB/s eta 0:00:01\n\u001b[?25hCollecting tensorboard<1.15.0,>=1.14.0 (from tensorflow==1.14.0)\n\u001b[?25l  Downloading https://files.pythonhosted.org/packages/91/2d/2ed263449a078cd9c8a9ba50ebd50123adf1f8cfbea1492f9084169b89d9/tensorboard-1.14.0-py3-none-any.whl (3.1MB)\n\u001b[K    100% |################################| 3.2MB 3.2MB/s eta 0:00:01\n\u001b[?25hCollecting gast>=0.2.0 (from tensorflow==1.14.0)\n  Downloading https://files.pythonhosted.org/packages/d6/84/759f5dd23fec8ba71952d97bcc7e2c9d7d63bdc582421f3cd4be845f0c98/gast-0.3.3-py2.py3-none-any.whl\nCollecting termcolor>=1.1.0 (from tensorflow==1.14.0)\n  Downloading https://files.pythonhosted.org/packages/8a/48/a76be51647d0eb9f10e2a4511bf3ffb8cc1e6b14e9e4fab46173aa79f981/termcolor-1.1.0.tar.gz\nCollecting wrapt>=1.11.1 (from tensorflow==1.14.0)\n  Downloading https://files.pythonhosted.org/packages/ee/bc/7993faa8084b5a5dbabb07a197ae1b7590da4752dc80455d878573553e2f/wrapt-1.12.0.tar.gz\nCollecting astor>=0.6.0 (from tensorflow==1.14.0)\n  Downloading https://files.pythonhosted.org/packages/c3/88/97eef84f48fa04fbd6750e62dcceafba6c63c81b7ac1420856c8dcc0a3f9/astor-0.8.1-py2.py3-none-any.whl\nCollecting protobuf>=3.6.1 (from tensorflow==1.14.0)\n\u001b[?25l  Downloading https://files.pythonhosted.org/packages/57/02/5432412c162989260fab61fa65e0a490c1872739eb91a659896e4d554b26/protobuf-3.11.3-cp36-cp36m-manylinux1_x86_64.whl (1.3MB)\n\u001b[K    100% |################################| 1.3MB 5.0MB/s eta 0:00:01\n\u001b[?25hCollecting wheel>=0.26 (from tensorflow==1.14.0)\n  Downloading https://files.pythonhosted.org/packages/8c/23/848298cccf8e40f5bbb59009b32848a4c38f4e7f3364297ab3c3e2e2cd14/wheel-0.34.2-py2.py3-none-any.whl\nCollecting pyyaml (from keras==2.2.5)\n\u001b[?25l  Downloading https://files.pythonhosted.org/packages/3d/d9/ea9816aea31beeadccd03f1f8b625ecf8f645bd66744484d162d84803ce5/PyYAML-5.3.tar.gz (268kB)\n\u001b[K    100% |################################| 276kB 4.2MB/s eta 0:00:01\n\u001b[?25hCollecting scipy>=0.14 (from keras==2.2.5)\n\u001b[?25l  Downloading https://files.pythonhosted.org/packages/dc/29/162476fd44203116e7980cfbd9352eef9db37c49445d1fec35509022f6aa/scipy-1.4.1-cp36-cp36m-manylinux1_x86_64.whl (26.1MB)\n\u001b[K    100% |################################| 26.1MB 977kB/s eta 0:00:01\n\u001b[?25hCollecting markdown>=2.6.8 (from tensorboard<1.15.0,>=1.14.0->tensorflow==1.14.0)\n\u001b[?25l  Downloading https://files.pythonhosted.org/packages/ab/c4/ba46d44855e6eb1770a12edace5a165a0c6de13349f592b9036257f3c3d3/Markdown-3.2.1-py2.py3-none-any.whl (88kB)\n\u001b[K    100% |################################| 92kB 5.4MB/s eta 0:00:01\n\u001b[?25hCollecting werkzeug>=0.11.15 (from tensorboard<1.15.0,>=1.14.0->tensorflow==1.14.0)\n\u001b[?25l  Downloading https://files.pythonhosted.org/packages/ba/a5/d6f8a6e71f15364d35678a4ec8a0186f980b3bd2545f40ad51dd26a87fb1/Werkzeug-1.0.0-py2.py3-none-any.whl (298kB)\n\u001b[K    100% |################################| 307kB 4.7MB/s eta 0:00:01\n\u001b[?25hBuilding wheels for collected packages: absl-py, termcolor, wrapt, pyyaml\n  Building wheel for absl-py (setup.py) ... \u001b[?25ldone\n\u001b[?25h  Stored in directory: /home/spark/shared/.cache/pip/wheels/8e/28/49/fad4e7f0b9a1227708cbbee4487ac8558a7334849cb81c813d\n  Building wheel for termcolor (setup.py) ... \u001b[?25ldone\n\u001b[?25h  Stored in directory: /home/spark/shared/.cache/pip/wheels/7c/06/54/bc84598ba1daf8f970247f550b175aaaee85f68b4b0c5ab2c6\n  Building wheel for wrapt (setup.py) ... \u001b[?25ldone\n\u001b[?25h  Stored in directory: /home/spark/shared/.cache/pip/wheels/54/f9/95/099544e9f879f719b14cf567fabb5aa7984263df0f025f3eef\n  Building wheel for pyyaml (setup.py) ... \u001b[?25ldone\n\u001b[?25h  Stored in directory: /home/spark/shared/.cache/pip/wheels/e4/76/4d/a95b8dd7b452b69e8ed4f68b69e1b55e12c9c9624dd962b191\nSuccessfully built absl-py termcolor wrapt pyyaml\nInstalling collected packages: numpy, six, h5py, keras-applications, keras-preprocessing, setuptools, tensorflow-estimator, google-pasta, absl-py, grpcio, markdown, werkzeug, wheel, protobuf, tensorboard, gast, termcolor, wrapt, astor, tensorflow, pyyaml, scipy, keras\nSuccessfully installed absl-py-0.9.0 astor-0.8.1 gast-0.3.3 google-pasta-0.1.8 grpcio-1.27.2 h5py-2.10.0 keras-2.2.5 keras-applications-1.0.8 keras-preprocessing-1.1.0 markdown-3.2.1 numpy-1.18.1 protobuf-3.11.3 pyyaml-5.3 scipy-1.4.1 setuptools-45.2.0 six-1.14.0 tensorboard-1.14.0 tensorflow-1.14.0 tensorflow-estimator-1.14.0 termcolor-1.1.0 werkzeug-1.0.0 wheel-0.34.2 wrapt-1.12.0\n",
                    "name": "stdout"
                }
            ]
        },
        {
            "metadata": {},
            "cell_type": "code",
            "source": "import tensorflow\nif not tensorflow.__version__ == '1.14.0':\n    print(tensorflow.__version__)\n    raise ValueError('please upgrade to TensorFlow 1.14.0, or restart your Kernel (Kernel->Restart & Clear Output)')\n\nimport keras\nif not keras.__version__ == '2.2.5':\n    print(keras.__version__)\n    raise ValueError('please upgrade to Keras 2.2.5, or restart your Kernel (Kernel->Restart & Clear Output)')",
            "execution_count": 2,
            "outputs": [
                {
                    "output_type": "stream",
                    "text": "Using TensorFlow backend.\n",
                    "name": "stderr"
                }
            ]
        },
        {
            "metadata": {},
            "cell_type": "markdown",
            "source": "IMPORTANT! => Please restart the kernel by clicking on \"Kernel\"->\"Restart and Clear Outout\" and wait until all output disapears. Then your changes are beeing picked up\n\nAs you can see, we use Keras' Sequential model with only two types of layers: Dense and Dropout. We also specify a random seed to make our results reproducible. Next, we load the Reuters data set:"
        },
        {
            "metadata": {},
            "cell_type": "code",
            "source": "import numpy as np\nfrom keras.models import Sequential\nfrom keras.layers import Dense, Dropout\nfrom keras.utils import to_categorical\nseed = 1337\nnp.random.seed(seed)\nfrom keras.datasets import reuters\n\nmax_words = 1000\n(x_train, y_train), (x_test, y_test) = reuters.load_data(num_words=max_words,\n                                                         test_split=0.2,\n                                                         seed=seed)\nnum_classes = np.max(y_train) + 1  # 46 topics",
            "execution_count": 3,
            "outputs": [
                {
                    "output_type": "stream",
                    "text": "Downloading data from https://s3.amazonaws.com/text-datasets/reuters.npz\n2113536/2110848 [==============================] - 0s 0us/step\n",
                    "name": "stdout"
                }
            ]
        },
        {
            "metadata": {},
            "cell_type": "markdown",
            "source": "Note that we cap the maximum number of words in a news item to 1000 by specifying the *num_words* key word. Also, 20% of the data will be test data and we ensure reproducibility by setting our random seed.\n\nOur training features are still simply sequences of indexes and we need to further preprocess them, so that we can plug them into a *Dense* layer. For this we use a *Tokenizer* from Keras' text preprocessing module. This tokenizer will take an index sequence and map it to a vector of length *max_words=1000*. Each of the 1000 vector positions corresponds to one of the words in our newswire corpus. The output of the tokenizer has a 1 at the i-th position of the vector, if the word corresponding to i is in the description of the newswire, and 0 otherwise. Even if this word appears multiple times, we still just put a 1 into our vector, i.e. our tokenizer is binary. We use this tokenizer to transform both train and test features:"
        },
        {
            "metadata": {},
            "cell_type": "code",
            "source": "from keras.preprocessing.text import Tokenizer\n\ntokenizer = Tokenizer(num_words=max_words)\nx_train = tokenizer.sequences_to_matrix(x_train, mode='binary')\nx_test = tokenizer.sequences_to_matrix(x_test, mode='binary')",
            "execution_count": 4,
            "outputs": []
        },
        {
            "metadata": {},
            "cell_type": "markdown",
            "source": "## 1. Exercise part: label encoding\n\nUse to_categorical, as we did in the lectures, to transform both *y_train* and *y_test* into one-hot encoded vectors of length *num_classes*:"
        },
        {
            "metadata": {},
            "cell_type": "code",
            "source": "y_train = to_categorical(y_train, num_classes=num_classes)\ny_test = to_categorical(y_test, num_classes=num_classes)",
            "execution_count": 5,
            "outputs": []
        },
        {
            "metadata": {},
            "cell_type": "markdown",
            "source": "##\u00a02. Exercise part: model definition\n\nNext, initialise a Keras *Sequential* model and add three layers to it:\n\n    Layer: Add a *Dense* layer with in input_shape=(max_words,), 512 output units and \"relu\" activation.\n    Layer: Add a *Dropout* layer with dropout rate of 50%.\n    Layer: Add a *Dense* layer with num_classes output units and \"softmax\" activation."
        },
        {
            "metadata": {},
            "cell_type": "code",
            "source": "model = Sequential() ###_YOUR_CODE_GOES_HERE_###  # Instantiate sequential model\nmodel.add(Dense(512, activation='relu', input_shape = (max_words,))) # Add first layer. Make sure to specify input shape\nmodel.add(Dropout(0.5)) # Add second layer\nmodel.add(Dense(num_classes, activation='softmax')) # Add third layer",
            "execution_count": 6,
            "outputs": [
                {
                    "output_type": "stream",
                    "text": "WARNING:tensorflow:From /home/spark/shared/user-libs/python3.6/keras/backend/tensorflow_backend.py:66: The name tf.get_default_graph is deprecated. Please use tf.compat.v1.get_default_graph instead.\n\nWARNING:tensorflow:From /home/spark/shared/user-libs/python3.6/keras/backend/tensorflow_backend.py:541: The name tf.placeholder is deprecated. Please use tf.compat.v1.placeholder instead.\n\nWARNING:tensorflow:From /home/spark/shared/user-libs/python3.6/keras/backend/tensorflow_backend.py:4432: The name tf.random_uniform is deprecated. Please use tf.random.uniform instead.\n\nWARNING:tensorflow:From /home/spark/shared/user-libs/python3.6/keras/backend/tensorflow_backend.py:148: The name tf.placeholder_with_default is deprecated. Please use tf.compat.v1.placeholder_with_default instead.\n\nWARNING:tensorflow:From /home/spark/shared/user-libs/python3.6/keras/backend/tensorflow_backend.py:3733: calling dropout (from tensorflow.python.ops.nn_ops) with keep_prob is deprecated and will be removed in a future version.\nInstructions for updating:\nPlease use `rate` instead of `keep_prob`. Rate should be set to `rate = 1 - keep_prob`.\n",
                    "name": "stderr"
                }
            ]
        },
        {
            "metadata": {},
            "cell_type": "markdown",
            "source": "## 3. Exercise part: model compilation\n\nAs the next step, we need to compile our Keras model with a training configuration. Compile your model with \"categorical_crossentropy\" as loss function, \"adam\" as optimizer and specify \"accuracy\" as evaluation metric. NOTE: In case you get an error regarding h5py, just restart the kernel and start from scratch"
        },
        {
            "metadata": {
                "scrolled": true
            },
            "cell_type": "code",
            "source": "model.compile(loss=\"categorical_crossentropy\", optimizer='adam', metrics=['accuracy'])",
            "execution_count": 7,
            "outputs": [
                {
                    "output_type": "stream",
                    "text": "WARNING:tensorflow:From /home/spark/shared/user-libs/python3.6/keras/optimizers.py:793: The name tf.train.Optimizer is deprecated. Please use tf.compat.v1.train.Optimizer instead.\n\nWARNING:tensorflow:From /home/spark/shared/user-libs/python3.6/keras/backend/tensorflow_backend.py:3576: The name tf.log is deprecated. Please use tf.math.log instead.\n\n",
                    "name": "stderr"
                }
            ]
        },
        {
            "metadata": {},
            "cell_type": "code",
            "source": "",
            "execution_count": null,
            "outputs": []
        },
        {
            "metadata": {},
            "cell_type": "markdown",
            "source": "## 4. Exercise part: model training and evaluation\n\nNext, define the batch_size for training as 32 and train the model for 5 epochs on *x_train* and *y_train* by using the *fit* method of your model. Then calculate the score for your trained model by running *evaluate* on *x_test* and *y_test* with the same batch size as used in *fit*."
        },
        {
            "metadata": {},
            "cell_type": "code",
            "source": "batch_size = 32 ###_YOUR_CODE_GOES_HERE_###\nmodel.fit(x_train, y_train, batch_size=batch_size, epochs=5, validation_data=(x_test,y_test))\nscore = model.evaluate(x_test,y_test, verbose=1)",
            "execution_count": 9,
            "outputs": [
                {
                    "output_type": "stream",
                    "text": "WARNING:tensorflow:From /home/spark/shared/user-libs/python3.6/tensorflow/python/ops/math_grad.py:1250: add_dispatch_support.<locals>.wrapper (from tensorflow.python.ops.array_ops) is deprecated and will be removed in a future version.\nInstructions for updating:\nUse tf.where in 2.0, which has the same broadcast rule as np.where\n",
                    "name": "stderr"
                },
                {
                    "output_type": "stream",
                    "text": "Train on 8982 samples, validate on 2246 samples\nEpoch 1/5\n8982/8982 [==============================] - 2s 275us/step - loss: 1.3839 - acc: 0.6915 - val_loss: 0.9590 - val_acc: 0.7814\nEpoch 2/5\n8982/8982 [==============================] - 2s 241us/step - loss: 0.7683 - acc: 0.8203 - val_loss: 0.8422 - val_acc: 0.8019\nEpoch 3/5\n8982/8982 [==============================] - 2s 242us/step - loss: 0.5434 - acc: 0.8670 - val_loss: 0.8137 - val_acc: 0.8041\nEpoch 4/5\n8982/8982 [==============================] - 2s 235us/step - loss: 0.4158 - acc: 0.8965 - val_loss: 0.8188 - val_acc: 0.8068\nEpoch 5/5\n8982/8982 [==============================] - 2s 233us/step - loss: 0.3505 - acc: 0.9100 - val_loss: 0.8562 - val_acc: 0.7979\n2246/2246 [==============================] - 0s 28us/step\n",
                    "name": "stdout"
                }
            ]
        },
        {
            "metadata": {},
            "cell_type": "markdown",
            "source": "If you have done everything as specified, in particular set the random seed as we did above, your test accuracy should be around 80% "
        },
        {
            "metadata": {},
            "cell_type": "code",
            "source": "print(\"Loss: \",score[0],\"\\nAccuracy:\",score[1]),score[1]",
            "execution_count": 10,
            "outputs": [
                {
                    "output_type": "stream",
                    "text": "Loss:  0.8561815931557123 \nAccuracy: 0.7978628673196795\n",
                    "name": "stdout"
                },
                {
                    "output_type": "execute_result",
                    "execution_count": 10,
                    "data": {
                        "text/plain": "(None, 0.7978628673196795)"
                    },
                    "metadata": {}
                }
            ]
        },
        {
            "metadata": {},
            "cell_type": "markdown",
            "source": "Congratulations, now it's time to submit your result to the Coursera grader by executing the following cells (Programming Assingment, Week2). \n\nWe have to install a little library in order to submit to coursera\n"
        },
        {
            "metadata": {},
            "cell_type": "code",
            "source": "!rm -f rklib.py\n!wget https://raw.githubusercontent.com/IBM/coursera/master/rklib.py",
            "execution_count": 11,
            "outputs": [
                {
                    "output_type": "stream",
                    "text": "--2020-03-03 09:31:11--  https://raw.githubusercontent.com/IBM/coursera/master/rklib.py\r\nResolving raw.githubusercontent.com (raw.githubusercontent.com)... 199.232.8.133\r\nConnecting to raw.githubusercontent.com (raw.githubusercontent.com)|199.232.8.133|:443... connected.\r\nHTTP request sent, awaiting response... 200 OK\r\nLength: 2540 (2.5K) [text/plain]\r\nSaving to: 'rklib.py'\r\n\r\n\r 0% [                                       ] 0           --.-K/s              \r100%[======================================>] 2,540       --.-K/s   in 0s      \r\n\r\n2020-03-03 09:31:11 (49.3 MB/s) - 'rklib.py' saved [2540/2540]\r\n\r\n",
                    "name": "stdout"
                }
            ]
        },
        {
            "metadata": {},
            "cell_type": "markdown",
            "source": "Please provide your email address and obtain a submission token (secret) on the grader\u2019s submission page in coursera, then execute the cell"
        },
        {
            "metadata": {},
            "cell_type": "code",
            "source": "from rklib import submit\nimport json\n\nkey = \"XbAMqtjdEeepUgo7OOVwng\"\npart = \"HCvcp\"\nemail = \"YOURMAIL@DOMAIN.com\"\ntoken = \"PASTEMEHERE\" #you can obtain it from the grader page on Coursera (have a look here if you need more information on how to obtain the token https://youtu.be/GcDo0Rwe06U?t=276)\n\n\nsubmit(email, token, 'XbAMqtjdEeepUgo7OOVwng', part, [part], json.dumps(score[1]*100))",
            "execution_count": 12,
            "outputs": [
                {
                    "output_type": "stream",
                    "text": "Submission successful, please check on the coursera grader page for the status\n-------------------------\n{\"elements\":[{\"itemId\":\"ozVf2\",\"id\":\"tE4j0qhMEeecqgpT6QjMdA~ozVf2~2D5mGV0xEeqtCArrlZ7MMQ\",\"courseId\":\"tE4j0qhMEeecqgpT6QjMdA\"}],\"paging\":{},\"linked\":{}}\n-------------------------\n",
                    "name": "stdout"
                }
            ]
        },
        {
            "metadata": {},
            "cell_type": "code",
            "source": "",
            "execution_count": null,
            "outputs": []
        }
    ],
    "metadata": {
        "kernelspec": {
            "name": "python36",
            "display_name": "Python 3.6 with Spark",
            "language": "python3"
        },
        "language_info": {
            "mimetype": "text/x-python",
            "nbconvert_exporter": "python",
            "name": "python",
            "pygments_lexer": "ipython3",
            "version": "3.6.8",
            "file_extension": ".py",
            "codemirror_mode": {
                "version": 3,
                "name": "ipython"
            }
        }
    },
    "nbformat": 4,
    "nbformat_minor": 1
}